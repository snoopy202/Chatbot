{
  "nbformat": 4,
  "nbformat_minor": 0,
  "metadata": {
    "colab": {
      "provenance": []
    },
    "kernelspec": {
      "display_name": "Python 3",
      "language": "python",
      "name": "python3"
    },
    "language_info": {
      "codemirror_mode": {
        "name": "ipython",
        "version": 3
      },
      "file_extension": ".py",
      "mimetype": "text/x-python",
      "name": "python",
      "nbconvert_exporter": "python",
      "pygments_lexer": "ipython3",
      "version": "3.7.7"
    }
  },
  "cells": [
    {
      "cell_type": "markdown",
      "metadata": {
        "id": "faUojVtgaTGc"
      },
      "source": [
        "# Hotel Chatbot\n",
        "\n",
        "This notebook is based on the Hotel Chatbot problem. How can we provide better customer service at the front desk of a hotel? One simple way is to have an FAQ chatbot that is capable of answering simple questions about the hotel experience. There are many advantages to having a chatbot. \n",
        "\n",
        "1. It increases the appeal of the hotel and also increases information throughput.\n",
        "2. It creates a way to gather questions about the hotel in a data table form. \n",
        "\n",
        "In this notebook, we will be taking a look at 2 different models. The cosine similarity modela and the doc2vec model.\n"
      ]
    },
    {
      "cell_type": "markdown",
      "metadata": {
        "id": "pNceALtVaTGc"
      },
      "source": [
        "## 1. Adding knowledge base to your chatbot\n",
        "\n",
        "The Chatbot's ability to converse is defined by the data available to it. Take a look at the Ques.txt file to find questions and ans.txt file to find answers to those questions. This chatbot will essentially run a cosine similarity on a question posed with the question bank and try to find an answer. \n",
        "\n",
        "Let us begin by importing relevant libraries."
      ]
    },
    {
      "cell_type": "code",
      "metadata": {
        "id": "e__0bwBTaTGd"
      },
      "source": [
        "import nltk # to process text data\n",
        "import numpy as np # to represent corpus as arrays\n",
        "import random \n",
        "import operator\n",
        "import string # to process standard python strings\n",
        "from sklearn.metrics.pairwise import cosine_similarity # We will use this later to decide how similar two sentences are\n",
        "from sklearn.feature_extraction.text import TfidfVectorizer # Remember when you built a function to create a tfidf bag of words in Experience 2? This function does the same thing!"
      ],
      "execution_count": 1,
      "outputs": []
    },
    {
      "cell_type": "code",
      "metadata": {
        "colab": {
          "base_uri": "https://localhost:8080/"
        },
        "id": "5fQZ2TmpOR2f",
        "outputId": "694e1387-dcb6-4dc6-8e37-32627fb2d98a"
      },
      "source": [
        "nltk.download('wordnet') # first-time use only Used for the lemmatizer"
      ],
      "execution_count": 2,
      "outputs": [
        {
          "output_type": "stream",
          "name": "stderr",
          "text": [
            "[nltk_data] Downloading package wordnet to /root/nltk_data...\n"
          ]
        },
        {
          "output_type": "execute_result",
          "data": {
            "text/plain": [
              "True"
            ]
          },
          "metadata": {},
          "execution_count": 2
        }
      ]
    },
    {
      "cell_type": "code",
      "metadata": {
        "colab": {
          "base_uri": "https://localhost:8080/"
        },
        "id": "R08PteSZaTGd",
        "outputId": "e05e7a0f-dde7-4b35-a222-8cc8e2f68c82"
      },
      "source": [
        "filepath='./Module15-08-HotelChatbot_ans.txt'\n",
        "corpus=open(filepath,'r',errors = 'ignore')\n",
        "raw_data_ans=corpus.read()\n",
        "print (raw_data_ans)"
      ],
      "execution_count": 3,
      "outputs": [
        {
          "output_type": "stream",
          "name": "stdout",
          "text": [
            "200$ per night is the price for a basic suite.\n",
            "\n",
            "This establishment was constructed and inaugurated by John S. on the 23rd of September 1965.\n",
            "\n",
            "Breakfast is served from 7 AM to 10 AM.\n",
            "\n",
            "The breakfast menu is decided as per the head chefs decision on the night before. Kindly contact hotel staff for information abou the menu on the night before. \n",
            "\n",
            "The Vance hotel is a singular establishment designed and constructed by Lindsey Vance in 1949. It has hosted many dignitaries and government officials over the years.\n",
            "\n",
            "There are 43 rooms in this hotel including one pent house suite.\n",
            "\n",
            "We offer 4 types of rooms: basic, mid-level, premium and penthouse.\n",
            "\n",
            "Yes, room service is available 24 hrs.\n",
            "\n",
            "Yes we have one restaurant currently called 'Rouge'.\n",
            "\n",
            "There are 12 floors in the hotel.\n",
            "\n",
            "300$ per night is the standard price for a mid-level suite.\n",
            "\n",
            "500$ per night is the price for a premium suite.\n",
            "\n",
            "Yes, we have tuxedo services available at the reception.\n",
            "\n",
            "Yes, we have a laundry service at the reception.\n",
            "\n",
            "'Rouge' is open for dinner at 7pm.\n",
            "\n",
            "There is a waterfall 200 meters east from the hotel. We offer taxi services for such destinations and more.\n",
            "\n",
            "Yes, we do have a spa. It is however, closed 7pm onwards.\n",
            "\n",
            "Yes, we do have a spa. It is however, closed 7pm onwards.\n",
            "\n",
            "Check in is at anytime between 10am and 1pm.\n",
            "\n",
            "Check out is at anytime between 4pm and 6pm.\n",
            "\n",
            "Yes, we do.\n",
            "\n",
            "Yes.\n",
            "\n",
            "For parking lot reservations there is a surcharge depending on fixed rates. Ask at the reception for more information.\n",
            "\n",
            "No, you cannot book breakfast online.\n",
            "\n",
            "No, you cannot book the spa online.\n",
            "\n",
            "No, you cannot book that online.\n",
            "\n",
            "Yes, we do have the facilities to take care of pets and support them.\n",
            "\n",
            "Rates are per room.\n",
            "\n",
            "The rates may vary as per availability and demand.\n",
            "\n",
            "Yes.\n",
            "\n",
            "Yes.\n",
            "\n",
            "Yes.\n",
            "\n",
            "There are 4 main sized available:  basic, mid-level, premium and penthouse.\n",
            "\n",
            "Yes, for table reservations contact the reception through the phone.\n",
            "\n",
            "Yes, we do.\n",
            "\n",
            "We do not have child special rooms but we do have cribs available through a surcharge.\n",
            "\n",
            "Yes.\n",
            "\n",
            "Yes.\n",
            "\n",
            "Yes, we do have a shuttle service and taxi service.\n",
            "\n",
            "Yes.\n",
            "\n",
            "Yes, we do try our best to provide quality services to you. If there is any other requests, Kindly contact the staff.\n",
            "\n",
            "Check at the reception.\n",
            "\n",
            "You can check it out on your online booking reservation.\n",
            "\n",
            "Contact the reception through phone so that they may attempt to retreive the item.\n"
          ]
        }
      ]
    },
    {
      "cell_type": "code",
      "metadata": {
        "colab": {
          "base_uri": "https://localhost:8080/"
        },
        "id": "RxbIfaLxNHwy",
        "outputId": "0e77f82b-8e6f-46d3-fbf3-8f3eee7c8fcc"
      },
      "source": [
        "filepath='./Module15-08-HotelChatbot_ques.txt'\n",
        "corpus=open(filepath,'r',errors = 'ignore')\n",
        "raw_data=corpus.read()\n",
        "print (raw_data)"
      ],
      "execution_count": 4,
      "outputs": [
        {
          "output_type": "stream",
          "name": "stdout",
          "text": [
            "What is the price of one night stay in basic suite?\n",
            "\n",
            "How old is this establishment?\n",
            "\n",
            "What time is breakfast served?\n",
            "\n",
            "What is the breakfast menu?\n",
            "\n",
            "What is the history behind this hotel or establishment?\n",
            "\n",
            "How many rooms are in this hotel?\n",
            "\n",
            "What are the types of room or suites offered by the hotel?\n",
            "\n",
            "What is the name of the hotel?\n",
            "\n",
            "Is room service served 24 hours?\n",
            "\n",
            "How do I call for room service?\n",
            "\n",
            "Are there any restaurants in the hotel?\n",
            "\n",
            "How many floors are in the hotel?\n",
            "\n",
            "What is the price of one night stay at the mid-level suite?\n",
            "\n",
            "What is the price of one night stay at the premium suite?\n",
            "\n",
            "Do you have tuxedo services?\n",
            "\n",
            "Do you have a laundry service?\n",
            "\n",
            "What time do the restaurants open for dinner?\n",
            "\n",
            "What are the near by tourist attractions?\n",
            "\n",
            "Is there a spa in the hotel?\n",
            "\n",
            "Is there anywhere I can get a massage?\n",
            "\n",
            "What time is the check in?\n",
            "\n",
            "What time is the check out?\n",
            "\n",
            "Do you offer handicapped rooms?\n",
            "\n",
            "Is parking available at the hotel?\n",
            "\n",
            "Can I reserve a parking lot?\n",
            "\n",
            "What are the reception opening hours?\n",
            "\n",
            "Can I also book breakfast online? What does it cost?\n",
            "\n",
            "Is it possible to book spa treatments online?\n",
            "\n",
            "Can I book tee times online?\n",
            "\n",
            "Can I bring my pet?\n",
            "\n",
            "Are the rates per person or per room?\n",
            "\n",
            "Why do the costs vary from day to day?\n",
            "\n",
            "Can I book two rooms of different categories?\n",
            "\n",
            "Can I book two rooms with different occupancy?\n",
            "\n",
            "Is Wi-Fi available at the hotel/in the room?\n",
            "\n",
            "Which size are the rooms?\n",
            "\n",
            "Can I reserve a table in a restaurant?\n",
            "\n",
            "Do you offer non-smoking rooms?\n",
            "\n",
            "Do you offer child rates?\n",
            "\n",
            "Can I use the spa area even if I am not staying in your hotel?\n",
            "\n",
            "Can I use the spa area after checking out?\n",
            "\n",
            "Do you offer hotel shuttles, for ecample to the next airport or train station?\n",
            "\n",
            "Can I have breakfast/dinner even if I am not staying in your hotel?\n",
            "\n",
            "Are special requests, such as gluten-free meals or feather-free pillows, manageable?\n",
            "\n",
            "I have bought a Groupon-voucher, how can I redeem it in your hotel?\n",
            "\n",
            "Where can I get a copy of my invoice after departure?\n",
            "\n",
            "What should I do, if I lost or forgot something in my room?\n",
            "\n",
            "\n"
          ]
        }
      ]
    },
    {
      "cell_type": "markdown",
      "metadata": {
        "id": "3lJ5dsOvaTGo"
      },
      "source": [
        "####  Conversion to lower case\n",
        "\n",
        "We will convert all text to lower case first. Remember to inspect the result once we are done."
      ]
    },
    {
      "cell_type": "code",
      "metadata": {
        "colab": {
          "base_uri": "https://localhost:8080/"
        },
        "id": "KdWMJwPfaTGo",
        "outputId": "e303179a-b6f5-4b3b-c1bc-9997f6856083"
      },
      "source": [
        "raw_data=raw_data.lower()# converts to lowercase\n",
        "print (raw_data)"
      ],
      "execution_count": 5,
      "outputs": [
        {
          "output_type": "stream",
          "name": "stdout",
          "text": [
            "what is the price of one night stay in basic suite?\n",
            "\n",
            "how old is this establishment?\n",
            "\n",
            "what time is breakfast served?\n",
            "\n",
            "what is the breakfast menu?\n",
            "\n",
            "what is the history behind this hotel or establishment?\n",
            "\n",
            "how many rooms are in this hotel?\n",
            "\n",
            "what are the types of room or suites offered by the hotel?\n",
            "\n",
            "what is the name of the hotel?\n",
            "\n",
            "is room service served 24 hours?\n",
            "\n",
            "how do i call for room service?\n",
            "\n",
            "are there any restaurants in the hotel?\n",
            "\n",
            "how many floors are in the hotel?\n",
            "\n",
            "what is the price of one night stay at the mid-level suite?\n",
            "\n",
            "what is the price of one night stay at the premium suite?\n",
            "\n",
            "do you have tuxedo services?\n",
            "\n",
            "do you have a laundry service?\n",
            "\n",
            "what time do the restaurants open for dinner?\n",
            "\n",
            "what are the near by tourist attractions?\n",
            "\n",
            "is there a spa in the hotel?\n",
            "\n",
            "is there anywhere i can get a massage?\n",
            "\n",
            "what time is the check in?\n",
            "\n",
            "what time is the check out?\n",
            "\n",
            "do you offer handicapped rooms?\n",
            "\n",
            "is parking available at the hotel?\n",
            "\n",
            "can i reserve a parking lot?\n",
            "\n",
            "what are the reception opening hours?\n",
            "\n",
            "can i also book breakfast online? what does it cost?\n",
            "\n",
            "is it possible to book spa treatments online?\n",
            "\n",
            "can i book tee times online?\n",
            "\n",
            "can i bring my pet?\n",
            "\n",
            "are the rates per person or per room?\n",
            "\n",
            "why do the costs vary from day to day?\n",
            "\n",
            "can i book two rooms of different categories?\n",
            "\n",
            "can i book two rooms with different occupancy?\n",
            "\n",
            "is wi-fi available at the hotel/in the room?\n",
            "\n",
            "which size are the rooms?\n",
            "\n",
            "can i reserve a table in a restaurant?\n",
            "\n",
            "do you offer non-smoking rooms?\n",
            "\n",
            "do you offer child rates?\n",
            "\n",
            "can i use the spa area even if i am not staying in your hotel?\n",
            "\n",
            "can i use the spa area after checking out?\n",
            "\n",
            "do you offer hotel shuttles, for ecample to the next airport or train station?\n",
            "\n",
            "can i have breakfast/dinner even if i am not staying in your hotel?\n",
            "\n",
            "are special requests, such as gluten-free meals or feather-free pillows, manageable?\n",
            "\n",
            "i have bought a groupon-voucher, how can i redeem it in your hotel?\n",
            "\n",
            "where can i get a copy of my invoice after departure?\n",
            "\n",
            "what should i do, if i lost or forgot something in my room?\n",
            "\n",
            "\n"
          ]
        }
      ]
    },
    {
      "cell_type": "markdown",
      "metadata": {
        "id": "t729o2v7aTGp"
      },
      "source": [
        "####  Segmentation, Lematization and tokenization\n",
        "\n",
        "We will convert all text to lower case first. Remember to inspect the result once we are done."
      ]
    },
    {
      "cell_type": "code",
      "metadata": {
        "colab": {
          "base_uri": "https://localhost:8080/"
        },
        "id": "bd6adnm0aTGp",
        "outputId": "ddeb3405-3742-4302-d0ea-fe4b1f155f7e"
      },
      "source": [
        "nltk.download('punkt')\n",
        "sent_tokens = nltk.sent_tokenize(raw_data)# converts documents to list of sentences \n",
        "\n",
        "print(sent_tokens)"
      ],
      "execution_count": 6,
      "outputs": [
        {
          "output_type": "stream",
          "name": "stderr",
          "text": [
            "[nltk_data] Downloading package punkt to /root/nltk_data...\n",
            "[nltk_data]   Unzipping tokenizers/punkt.zip.\n"
          ]
        },
        {
          "output_type": "stream",
          "name": "stdout",
          "text": [
            "['what is the price of one night stay in basic suite?', 'how old is this establishment?', 'what time is breakfast served?', 'what is the breakfast menu?', 'what is the history behind this hotel or establishment?', 'how many rooms are in this hotel?', 'what are the types of room or suites offered by the hotel?', 'what is the name of the hotel?', 'is room service served 24 hours?', 'how do i call for room service?', 'are there any restaurants in the hotel?', 'how many floors are in the hotel?', 'what is the price of one night stay at the mid-level suite?', 'what is the price of one night stay at the premium suite?', 'do you have tuxedo services?', 'do you have a laundry service?', 'what time do the restaurants open for dinner?', 'what are the near by tourist attractions?', 'is there a spa in the hotel?', 'is there anywhere i can get a massage?', 'what time is the check in?', 'what time is the check out?', 'do you offer handicapped rooms?', 'is parking available at the hotel?', 'can i reserve a parking lot?', 'what are the reception opening hours?', 'can i also book breakfast online?', 'what does it cost?', 'is it possible to book spa treatments online?', 'can i book tee times online?', 'can i bring my pet?', 'are the rates per person or per room?', 'why do the costs vary from day to day?', 'can i book two rooms of different categories?', 'can i book two rooms with different occupancy?', 'is wi-fi available at the hotel/in the room?', 'which size are the rooms?', 'can i reserve a table in a restaurant?', 'do you offer non-smoking rooms?', 'do you offer child rates?', 'can i use the spa area even if i am not staying in your hotel?', 'can i use the spa area after checking out?', 'do you offer hotel shuttles, for ecample to the next airport or train station?', 'can i have breakfast/dinner even if i am not staying in your hotel?', 'are special requests, such as gluten-free meals or feather-free pillows, manageable?', 'i have bought a groupon-voucher, how can i redeem it in your hotel?', 'where can i get a copy of my invoice after departure?', 'what should i do, if i lost or forgot something in my room?']\n"
          ]
        }
      ]
    },
    {
      "cell_type": "code",
      "metadata": {
        "colab": {
          "base_uri": "https://localhost:8080/"
        },
        "id": "RRuhV6wnaTGp",
        "outputId": "8279406f-44e7-4c9b-ba11-7e19dc5dab10"
      },
      "source": [
        "sent_tokens_ans = nltk.sent_tokenize(raw_data_ans)# converts documents to list of sentences \n",
        "print(sent_tokens_ans)"
      ],
      "execution_count": 7,
      "outputs": [
        {
          "output_type": "stream",
          "name": "stdout",
          "text": [
            "['200$ per night is the price for a basic suite.', 'This establishment was constructed and inaugurated by John S. on the 23rd of September 1965.', 'Breakfast is served from 7 AM to 10 AM.', 'The breakfast menu is decided as per the head chefs decision on the night before.', 'Kindly contact hotel staff for information abou the menu on the night before.', 'The Vance hotel is a singular establishment designed and constructed by Lindsey Vance in 1949.', 'It has hosted many dignitaries and government officials over the years.', 'There are 43 rooms in this hotel including one pent house suite.', 'We offer 4 types of rooms: basic, mid-level, premium and penthouse.', 'Yes, room service is available 24 hrs.', \"Yes we have one restaurant currently called 'Rouge'.\", 'There are 12 floors in the hotel.', '300$ per night is the standard price for a mid-level suite.', '500$ per night is the price for a premium suite.', 'Yes, we have tuxedo services available at the reception.', 'Yes, we have a laundry service at the reception.', \"'Rouge' is open for dinner at 7pm.\", 'There is a waterfall 200 meters east from the hotel.', 'We offer taxi services for such destinations and more.', 'Yes, we do have a spa.', 'It is however, closed 7pm onwards.', 'Yes, we do have a spa.', 'It is however, closed 7pm onwards.', 'Check in is at anytime between 10am and 1pm.', 'Check out is at anytime between 4pm and 6pm.', 'Yes, we do.', 'Yes.', 'For parking lot reservations there is a surcharge depending on fixed rates.', 'Ask at the reception for more information.', 'No, you cannot book breakfast online.', 'No, you cannot book the spa online.', 'No, you cannot book that online.', 'Yes, we do have the facilities to take care of pets and support them.', 'Rates are per room.', 'The rates may vary as per availability and demand.', 'Yes.', 'Yes.', 'Yes.', 'There are 4 main sized available:  basic, mid-level, premium and penthouse.', 'Yes, for table reservations contact the reception through the phone.', 'Yes, we do.', 'We do not have child special rooms but we do have cribs available through a surcharge.', 'Yes.', 'Yes.', 'Yes, we do have a shuttle service and taxi service.', 'Yes.', 'Yes, we do try our best to provide quality services to you.', 'If there is any other requests, Kindly contact the staff.', 'Check at the reception.', 'You can check it out on your online booking reservation.', 'Contact the reception through phone so that they may attempt to retreive the item.']\n"
          ]
        }
      ]
    },
    {
      "cell_type": "code",
      "metadata": {
        "colab": {
          "base_uri": "https://localhost:8080/"
        },
        "id": "h6JFAfDRaTGp",
        "outputId": "4d6e2708-5105-44de-8148-b8cad2d2a0e4"
      },
      "source": [
        "res = {sent_tokens[i]: sent_tokens_ans[i] for i in range(len(sent_tokens))} \n",
        "print(res)"
      ],
      "execution_count": 8,
      "outputs": [
        {
          "output_type": "stream",
          "name": "stdout",
          "text": [
            "{'what is the price of one night stay in basic suite?': '200$ per night is the price for a basic suite.', 'how old is this establishment?': 'This establishment was constructed and inaugurated by John S. on the 23rd of September 1965.', 'what time is breakfast served?': 'Breakfast is served from 7 AM to 10 AM.', 'what is the breakfast menu?': 'The breakfast menu is decided as per the head chefs decision on the night before.', 'what is the history behind this hotel or establishment?': 'Kindly contact hotel staff for information abou the menu on the night before.', 'how many rooms are in this hotel?': 'The Vance hotel is a singular establishment designed and constructed by Lindsey Vance in 1949.', 'what are the types of room or suites offered by the hotel?': 'It has hosted many dignitaries and government officials over the years.', 'what is the name of the hotel?': 'There are 43 rooms in this hotel including one pent house suite.', 'is room service served 24 hours?': 'We offer 4 types of rooms: basic, mid-level, premium and penthouse.', 'how do i call for room service?': 'Yes, room service is available 24 hrs.', 'are there any restaurants in the hotel?': \"Yes we have one restaurant currently called 'Rouge'.\", 'how many floors are in the hotel?': 'There are 12 floors in the hotel.', 'what is the price of one night stay at the mid-level suite?': '300$ per night is the standard price for a mid-level suite.', 'what is the price of one night stay at the premium suite?': '500$ per night is the price for a premium suite.', 'do you have tuxedo services?': 'Yes, we have tuxedo services available at the reception.', 'do you have a laundry service?': 'Yes, we have a laundry service at the reception.', 'what time do the restaurants open for dinner?': \"'Rouge' is open for dinner at 7pm.\", 'what are the near by tourist attractions?': 'There is a waterfall 200 meters east from the hotel.', 'is there a spa in the hotel?': 'We offer taxi services for such destinations and more.', 'is there anywhere i can get a massage?': 'Yes, we do have a spa.', 'what time is the check in?': 'It is however, closed 7pm onwards.', 'what time is the check out?': 'Yes, we do have a spa.', 'do you offer handicapped rooms?': 'It is however, closed 7pm onwards.', 'is parking available at the hotel?': 'Check in is at anytime between 10am and 1pm.', 'can i reserve a parking lot?': 'Check out is at anytime between 4pm and 6pm.', 'what are the reception opening hours?': 'Yes, we do.', 'can i also book breakfast online?': 'Yes.', 'what does it cost?': 'For parking lot reservations there is a surcharge depending on fixed rates.', 'is it possible to book spa treatments online?': 'Ask at the reception for more information.', 'can i book tee times online?': 'No, you cannot book breakfast online.', 'can i bring my pet?': 'No, you cannot book the spa online.', 'are the rates per person or per room?': 'No, you cannot book that online.', 'why do the costs vary from day to day?': 'Yes, we do have the facilities to take care of pets and support them.', 'can i book two rooms of different categories?': 'Rates are per room.', 'can i book two rooms with different occupancy?': 'The rates may vary as per availability and demand.', 'is wi-fi available at the hotel/in the room?': 'Yes.', 'which size are the rooms?': 'Yes.', 'can i reserve a table in a restaurant?': 'Yes.', 'do you offer non-smoking rooms?': 'There are 4 main sized available:  basic, mid-level, premium and penthouse.', 'do you offer child rates?': 'Yes, for table reservations contact the reception through the phone.', 'can i use the spa area even if i am not staying in your hotel?': 'Yes, we do.', 'can i use the spa area after checking out?': 'We do not have child special rooms but we do have cribs available through a surcharge.', 'do you offer hotel shuttles, for ecample to the next airport or train station?': 'Yes.', 'can i have breakfast/dinner even if i am not staying in your hotel?': 'Yes.', 'are special requests, such as gluten-free meals or feather-free pillows, manageable?': 'Yes, we do have a shuttle service and taxi service.', 'i have bought a groupon-voucher, how can i redeem it in your hotel?': 'Yes.', 'where can i get a copy of my invoice after departure?': 'Yes, we do try our best to provide quality services to you.', 'what should i do, if i lost or forgot something in my room?': 'If there is any other requests, Kindly contact the staff.'}\n"
          ]
        }
      ]
    },
    {
      "cell_type": "code",
      "metadata": {
        "colab": {
          "base_uri": "https://localhost:8080/"
        },
        "id": "LYI2uuyTaTGq",
        "outputId": "2d8c38c1-4de9-4af2-a1bb-6f904263855b"
      },
      "source": [
        "word_tokens = nltk.word_tokenize(raw_data)# converts documents to list of words\n",
        "print (word_tokens)"
      ],
      "execution_count": 9,
      "outputs": [
        {
          "output_type": "stream",
          "name": "stdout",
          "text": [
            "['what', 'is', 'the', 'price', 'of', 'one', 'night', 'stay', 'in', 'basic', 'suite', '?', 'how', 'old', 'is', 'this', 'establishment', '?', 'what', 'time', 'is', 'breakfast', 'served', '?', 'what', 'is', 'the', 'breakfast', 'menu', '?', 'what', 'is', 'the', 'history', 'behind', 'this', 'hotel', 'or', 'establishment', '?', 'how', 'many', 'rooms', 'are', 'in', 'this', 'hotel', '?', 'what', 'are', 'the', 'types', 'of', 'room', 'or', 'suites', 'offered', 'by', 'the', 'hotel', '?', 'what', 'is', 'the', 'name', 'of', 'the', 'hotel', '?', 'is', 'room', 'service', 'served', '24', 'hours', '?', 'how', 'do', 'i', 'call', 'for', 'room', 'service', '?', 'are', 'there', 'any', 'restaurants', 'in', 'the', 'hotel', '?', 'how', 'many', 'floors', 'are', 'in', 'the', 'hotel', '?', 'what', 'is', 'the', 'price', 'of', 'one', 'night', 'stay', 'at', 'the', 'mid-level', 'suite', '?', 'what', 'is', 'the', 'price', 'of', 'one', 'night', 'stay', 'at', 'the', 'premium', 'suite', '?', 'do', 'you', 'have', 'tuxedo', 'services', '?', 'do', 'you', 'have', 'a', 'laundry', 'service', '?', 'what', 'time', 'do', 'the', 'restaurants', 'open', 'for', 'dinner', '?', 'what', 'are', 'the', 'near', 'by', 'tourist', 'attractions', '?', 'is', 'there', 'a', 'spa', 'in', 'the', 'hotel', '?', 'is', 'there', 'anywhere', 'i', 'can', 'get', 'a', 'massage', '?', 'what', 'time', 'is', 'the', 'check', 'in', '?', 'what', 'time', 'is', 'the', 'check', 'out', '?', 'do', 'you', 'offer', 'handicapped', 'rooms', '?', 'is', 'parking', 'available', 'at', 'the', 'hotel', '?', 'can', 'i', 'reserve', 'a', 'parking', 'lot', '?', 'what', 'are', 'the', 'reception', 'opening', 'hours', '?', 'can', 'i', 'also', 'book', 'breakfast', 'online', '?', 'what', 'does', 'it', 'cost', '?', 'is', 'it', 'possible', 'to', 'book', 'spa', 'treatments', 'online', '?', 'can', 'i', 'book', 'tee', 'times', 'online', '?', 'can', 'i', 'bring', 'my', 'pet', '?', 'are', 'the', 'rates', 'per', 'person', 'or', 'per', 'room', '?', 'why', 'do', 'the', 'costs', 'vary', 'from', 'day', 'to', 'day', '?', 'can', 'i', 'book', 'two', 'rooms', 'of', 'different', 'categories', '?', 'can', 'i', 'book', 'two', 'rooms', 'with', 'different', 'occupancy', '?', 'is', 'wi-fi', 'available', 'at', 'the', 'hotel/in', 'the', 'room', '?', 'which', 'size', 'are', 'the', 'rooms', '?', 'can', 'i', 'reserve', 'a', 'table', 'in', 'a', 'restaurant', '?', 'do', 'you', 'offer', 'non-smoking', 'rooms', '?', 'do', 'you', 'offer', 'child', 'rates', '?', 'can', 'i', 'use', 'the', 'spa', 'area', 'even', 'if', 'i', 'am', 'not', 'staying', 'in', 'your', 'hotel', '?', 'can', 'i', 'use', 'the', 'spa', 'area', 'after', 'checking', 'out', '?', 'do', 'you', 'offer', 'hotel', 'shuttles', ',', 'for', 'ecample', 'to', 'the', 'next', 'airport', 'or', 'train', 'station', '?', 'can', 'i', 'have', 'breakfast/dinner', 'even', 'if', 'i', 'am', 'not', 'staying', 'in', 'your', 'hotel', '?', 'are', 'special', 'requests', ',', 'such', 'as', 'gluten-free', 'meals', 'or', 'feather-free', 'pillows', ',', 'manageable', '?', 'i', 'have', 'bought', 'a', 'groupon-voucher', ',', 'how', 'can', 'i', 'redeem', 'it', 'in', 'your', 'hotel', '?', 'where', 'can', 'i', 'get', 'a', 'copy', 'of', 'my', 'invoice', 'after', 'departure', '?', 'what', 'should', 'i', 'do', ',', 'if', 'i', 'lost', 'or', 'forgot', 'something', 'in', 'my', 'room', '?']\n"
          ]
        }
      ]
    },
    {
      "cell_type": "code",
      "metadata": {
        "id": "-7sg_IsiaTGq"
      },
      "source": [
        "lemmer = nltk.stem.WordNetLemmatizer() #Initiate lemmer class. WordNet is a semantically-oriented dictionary of English included in NLTK.\n",
        "def LemTokens(tokens):\n",
        "    return [lemmer.lemmatize(token) for token in tokens]"
      ],
      "execution_count": 10,
      "outputs": []
    },
    {
      "cell_type": "code",
      "metadata": {
        "id": "tNpTcnZQaTGq"
      },
      "source": [
        "remove_punct_dict = dict((ord(punct), None) for punct in string.punctuation)\n",
        "def LemNormalize(text):\n",
        "    return LemTokens(nltk.word_tokenize(text.lower().translate(remove_punct_dict))) "
      ],
      "execution_count": 11,
      "outputs": []
    },
    {
      "cell_type": "markdown",
      "metadata": {
        "id": "8yBNkjCkaTGq"
      },
      "source": [
        "## 2. Adding Chatbot functionality - Cosine similarity"
      ]
    },
    {
      "cell_type": "code",
      "metadata": {
        "id": "YKToF6tBaTGq"
      },
      "source": [
        "GREETING_INPUTS = [\"hello\", \"hi\", \"greetings\", \"sup\", \"what's up\",\"hey\", \"hey there\"]\n",
        "GREETING_RESPONSES = [\"hi\", \"hey\", \"*nods*\", \"hi there\", \"hello\", \"I am glad! You are talking to me\"]\n",
        "\n",
        "def greeting(sentence):\n",
        "    for word in sentence.split(): # Looks at each word in your sentence\n",
        "        if word.lower() in GREETING_INPUTS: # checks if the word matches a GREETING_INPUT\n",
        "            return random.choice(GREETING_RESPONSES) # replies with a GREETING_RESPONSE"
      ],
      "execution_count": 12,
      "outputs": []
    },
    {
      "cell_type": "markdown",
      "metadata": {
        "id": "OG8J9Y4haTGq"
      },
      "source": [
        "The functionality of the chatbot is done by creating a loop for running the chatbot. Take a loof at the function below. Each line in the function is important as it calls another function to perform an important step. The function 'response' is responsible for how the chatbot behaves. Having a master function for each functionality is recommended as good programming practise. \n"
      ]
    },
    {
      "cell_type": "code",
      "metadata": {
        "id": "ljpdA9lXaTGq"
      },
      "source": [
        "def response(user_response):\n",
        "    \n",
        "    robo_response='' # initialize a variable to contain string\n",
        "    sent_tokens.append(user_response) #add user response to sent_tokens\n",
        "    TfidfVec = TfidfVectorizer(tokenizer=LemNormalize, stop_words='english') \n",
        "    tfidf = TfidfVec.fit_transform(sent_tokens) #get tfidf value\n",
        "    vals = cosine_similarity(tfidf[-1], tfidf) #get cosine similarity value\n",
        "    idx=vals.argsort()[0][-2]\n",
        "    flat = vals.flatten() \n",
        "    flat.sort() #sort in ascending order\n",
        "    req_tfidf = flat[-2] \n",
        "    \n",
        "    if(req_tfidf==0):\n",
        "        robo_response=robo_response+\"I am sorry! I don't understand you\"\n",
        "        return robo_response, vals\n",
        "    else:\n",
        "        robo_response = robo_response+res[sent_tokens[idx]]\n",
        "        return robo_response, vals"
      ],
      "execution_count": 13,
      "outputs": []
    },
    {
      "cell_type": "markdown",
      "metadata": {
        "id": "MObdf0DbaTGq"
      },
      "source": [
        "Finally, let us create the chatbot interface and create a persona around it. Let us call it 'Jane' and use cosine similarity to find FAQs similar to the question asked and answer them. "
      ]
    },
    {
      "cell_type": "code",
      "metadata": {
        "colab": {
          "base_uri": "https://localhost:8080/"
        },
        "id": "kAhwDtRAaTGr",
        "outputId": "7374fc20-0f09-4808-9c37-61a8990535c1"
      },
      "source": [
        "flag=True\n",
        "print(\"Jane: My name is Jane. I will answer your queries about this hotel. If you want to exit, type Bye!\")\n",
        "while(flag==True):\n",
        "    user_response = input()\n",
        "    user_response=user_response.lower()\n",
        "    if(user_response!='bye'):\n",
        "        if(user_response=='thanks' or user_response=='thank you' ):\n",
        "            flag=False\n",
        "            print(\"Jane: You are welcome..\")\n",
        "        else:\n",
        "            if(greeting(user_response)!=None):\n",
        "                print(\"Jane: \"+greeting(user_response))\n",
        "\n",
        "            else:\n",
        "                print(\"Jane: \",end=\"\")\n",
        "                resp= response(user_response)\n",
        "                print(resp[0], )\n",
        "                sent_tokens.remove(user_response)\n",
        "                resp_l = resp[1].tolist()\n",
        "                resp_l[0].pop()\n",
        "                print(' (With similarity of ',max(resp_l[0]),')')\n",
        "\n",
        "    else:\n",
        "        flag=False\n",
        "        print(\"Jane: Bye! take care..\")"
      ],
      "execution_count": 14,
      "outputs": [
        {
          "output_type": "stream",
          "name": "stdout",
          "text": [
            "Jane: My name is Jane. I will answer your queries about this hotel. If you want to exit, type Bye!\n",
            "bye\n",
            "Jane: Bye! take care..\n"
          ]
        }
      ]
    },
    {
      "cell_type": "markdown",
      "metadata": {
        "id": "ti57IhXEaTGr"
      },
      "source": [
        "## 3. Chatbot functionality using Doc2vec\n",
        "\n",
        "We will be covering one more type of model for creating chatbots. As we saw the cosine similarity model works on using that algorithm to find similarities between 2 sentences. But can we now use a neural network to solve this problem? Lets take a look.\n",
        "\n",
        "Doc2Vec is a neural network based model that essentially creates vectors out of documents. In order to understand Doc2vec you also need to understand word2vec. \n",
        "\n",
        "\n",
        "#### What is word2vec?\n",
        "It’s a Model to create the word embeddings, where it takes input as a large corpus of text and produces a vector space typically of several hundred dimesions. it was introduced in two papers between September and October 2013, by a team of researchers at Google. The underlying assumption of Word2Vec is that two words sharing similar contexts also share a similar meaning and consequently a similar vector representation from the model.\n",
        "\n",
        "For instance: “Bank”, “money” and “accounts” are often used in similar situations, with similar surrounding words like “dollar”, “loan” or “credit”, and according to Word2Vec they will therefore share a similar vector representation. \n",
        "\n",
        "<img src=\"https://lrccd.instructure.com/files/31013933/download?download_frd=1\"/>"
      ]
    },
    {
      "cell_type": "markdown",
      "metadata": {
        "id": "ajt10YajaTGr"
      },
      "source": [
        "#### What is Doc2vec?\n",
        "\n",
        "So the objective of Doc2vec is to create the numerical representation of sentence/paragraphs/documents unlike word2vec that computes a feature vector for every word in the corpus, Doc2Vec computes a feature vector for every document in the corpus. The vectors generated by Doc2vec can be used for tasks like finding similarity between sentences/paragraphs/documents\n",
        "\n",
        "<strong> We will be using this property of doc2vec to create our own similarity model.</strong>\n"
      ]
    },
    {
      "cell_type": "markdown",
      "metadata": {
        "id": "4rz_EMVtaTGr"
      },
      "source": [
        "Let us begin by importing the relevant libraries."
      ]
    },
    {
      "cell_type": "code",
      "metadata": {
        "id": "u0uEPI3haTGs"
      },
      "source": [
        "from gensim.models.doc2vec import Doc2Vec, TaggedDocument\n",
        "from nltk.tokenize import word_tokenize"
      ],
      "execution_count": 15,
      "outputs": []
    },
    {
      "cell_type": "markdown",
      "metadata": {
        "id": "jCN-DoefaTGs"
      },
      "source": [
        "The first main aim is to tag our data. The doc2vec model requires us to tag our data to use it effectively. Here is a good learning link for a [starter code](https://www.kaggle.com/fmitchell259/creating-a-doc2vec-model) for doc2vec. The following [link](https://medium.com/wisio/a-gentle-introduction-to-doc2vec-db3e8c0cce5e) can also be useful and it is recommended to read them. "
      ]
    },
    {
      "cell_type": "code",
      "metadata": {
        "id": "kXe558qcaTGs"
      },
      "source": [
        "tagged_data = [TaggedDocument(words=word_tokenize(_d.lower()), tags=[str(i)]) for i, _d in enumerate(sent_tokens)]"
      ],
      "execution_count": 16,
      "outputs": []
    },
    {
      "cell_type": "code",
      "metadata": {
        "id": "dfTTPFpQaTGs"
      },
      "source": [
        "max_epochs = 100\n",
        "vec_size = 20 # Increase this to have a larger vector. This will mean more differentiation. \n",
        "alpha = 0.025\n"
      ],
      "execution_count": 17,
      "outputs": []
    },
    {
      "cell_type": "markdown",
      "metadata": {
        "id": "dfhX6BQeaTGs"
      },
      "source": [
        "The next step is to train the model. As before we will be using a `model.train` function to run the training process. Take a look at the [documentation](https://radimrehurek.com/gensim/models/doc2vec.html) for more information about how to train the Doc2vec model. "
      ]
    },
    {
      "cell_type": "code",
      "metadata": {
        "colab": {
          "base_uri": "https://localhost:8080/"
        },
        "id": "h7ScV7f0aTGs",
        "outputId": "0eb3a4a8-9c91-48ec-ec81-1a19dacdef3d"
      },
      "source": [
        "\n",
        "model = Doc2Vec(vector_size=vec_size,\n",
        "                alpha=alpha, \n",
        "                min_alpha=0.00025,\n",
        "                min_count=1,\n",
        "                dm =1)\n",
        "  \n",
        "model.build_vocab(tagged_data)\n",
        "\n",
        "for epoch in range(max_epochs):\n",
        "    print('iteration {0}'.format(epoch))\n",
        "    model.train(tagged_data, # tagged data to be used here\n",
        "                total_examples=model.corpus_count,\n",
        "                epochs=model.epochs)\n",
        "    # decrease the learning rate\n",
        "    model.alpha -= 0.0002\n",
        "    # fix the learning rate, no decay\n",
        "    model.min_alpha = model.alpha\n",
        "\n",
        "model.save(\"d2v.model\")\n",
        "print(\"Model Saved\")"
      ],
      "execution_count": 20,
      "outputs": [
        {
          "output_type": "stream",
          "name": "stderr",
          "text": [
            "WARNING:gensim.models.word2vec:Effective 'alpha' higher than previous training cycles\n"
          ]
        },
        {
          "output_type": "stream",
          "name": "stdout",
          "text": [
            "iteration 0\n",
            "iteration 1\n",
            "iteration 2\n",
            "iteration 3\n",
            "iteration 4\n",
            "iteration 5\n",
            "iteration 6\n",
            "iteration 7\n",
            "iteration 8\n",
            "iteration 9\n",
            "iteration 10\n",
            "iteration 11\n",
            "iteration 12\n",
            "iteration 13\n",
            "iteration 14\n",
            "iteration 15\n",
            "iteration 16\n",
            "iteration 17\n",
            "iteration 18\n",
            "iteration 19\n",
            "iteration 20\n",
            "iteration 21\n",
            "iteration 22\n",
            "iteration 23\n",
            "iteration 24\n",
            "iteration 25\n",
            "iteration 26\n",
            "iteration 27\n",
            "iteration 28\n",
            "iteration 29\n",
            "iteration 30\n",
            "iteration 31\n",
            "iteration 32\n",
            "iteration 33\n",
            "iteration 34\n",
            "iteration 35\n",
            "iteration 36\n",
            "iteration 37\n",
            "iteration 38\n",
            "iteration 39\n",
            "iteration 40\n",
            "iteration 41\n",
            "iteration 42\n",
            "iteration 43\n",
            "iteration 44\n",
            "iteration 45\n",
            "iteration 46\n",
            "iteration 47\n",
            "iteration 48\n",
            "iteration 49\n",
            "iteration 50\n",
            "iteration 51\n",
            "iteration 52\n",
            "iteration 53\n",
            "iteration 54\n",
            "iteration 55\n",
            "iteration 56\n",
            "iteration 57\n",
            "iteration 58\n",
            "iteration 59\n",
            "iteration 60\n",
            "iteration 61\n",
            "iteration 62\n",
            "iteration 63\n",
            "iteration 64\n",
            "iteration 65\n",
            "iteration 66\n",
            "iteration 67\n",
            "iteration 68\n",
            "iteration 69\n",
            "iteration 70\n",
            "iteration 71\n",
            "iteration 72\n",
            "iteration 73\n",
            "iteration 74\n",
            "iteration 75\n",
            "iteration 76\n",
            "iteration 77\n",
            "iteration 78\n",
            "iteration 79\n",
            "iteration 80\n",
            "iteration 81\n",
            "iteration 82\n",
            "iteration 83\n",
            "iteration 84\n",
            "iteration 85\n",
            "iteration 86\n",
            "iteration 87\n",
            "iteration 88\n",
            "iteration 89\n",
            "iteration 90\n",
            "iteration 91\n",
            "iteration 92\n",
            "iteration 93\n",
            "iteration 94\n",
            "iteration 95\n",
            "iteration 96\n",
            "iteration 97\n",
            "iteration 98\n",
            "iteration 99\n",
            "Model Saved\n"
          ]
        }
      ]
    },
    {
      "cell_type": "markdown",
      "metadata": {
        "id": "8THTIyMhaTGs"
      },
      "source": [
        "### Evaluating doc2vec model"
      ]
    },
    {
      "cell_type": "code",
      "metadata": {
        "id": "rc2d1J9-aTGs"
      },
      "source": [
        "from gensim.models.doc2vec import Doc2Vec\n",
        "model= Doc2Vec.load(\"d2v.model\")"
      ],
      "execution_count": 21,
      "outputs": []
    },
    {
      "cell_type": "code",
      "metadata": {
        "id": "5dVlbNSXZwRl"
      },
      "source": [
        "test_data = word_tokenize(\"How much is the price?\".lower())"
      ],
      "execution_count": 22,
      "outputs": []
    },
    {
      "cell_type": "markdown",
      "metadata": {
        "id": "llOzR853ZxwS"
      },
      "source": [
        "We can use the model.infer_vector function to infer the vector associated with a document. We can then use a function called most_similar to find the most similar vectors to the one we have created. What are the results?"
      ]
    },
    {
      "cell_type": "code",
      "metadata": {
        "colab": {
          "base_uri": "https://localhost:8080/"
        },
        "id": "f_gpq8J5Zzjc",
        "outputId": "71788ab6-e7ef-4233-fda7-c64231973a13"
      },
      "source": [
        "v1 = model.infer_vector(test_data)\n",
        "print(\"V1_infer\", v1)"
      ],
      "execution_count": 23,
      "outputs": [
        {
          "output_type": "stream",
          "name": "stdout",
          "text": [
            "V1_infer [ 0.02356609  0.02570973 -0.00366953  0.02741713 -0.02513227  0.02635313\n",
            "  0.00283291  0.05130521 -0.03079578 -0.01109047  0.01240083 -0.01940247\n",
            " -0.02085616  0.01730078  0.00045929 -0.01124656  0.05331567 -0.02663193\n",
            " -0.03785448 -0.01796117]\n"
          ]
        }
      ]
    },
    {
      "cell_type": "code",
      "metadata": {
        "colab": {
          "base_uri": "https://localhost:8080/"
        },
        "id": "Pa68859mZ1J9",
        "outputId": "3727ab9a-4a3f-46d6-de21-83dd3d87f3a4"
      },
      "source": [
        "similar_doc = model.docvecs.most_similar(positive = [v1], topn = 4) #positive is an attribute that shows positive correlation first followed by the correlation value\n",
        "print(similar_doc)"
      ],
      "execution_count": 24,
      "outputs": [
        {
          "output_type": "stream",
          "name": "stdout",
          "text": [
            "[('13', 0.6659650802612305), ('41', 0.6498533487319946), ('29', 0.6370059847831726), ('33', 0.6362162232398987)]\n"
          ]
        },
        {
          "output_type": "stream",
          "name": "stderr",
          "text": [
            "<ipython-input-24-b6d9331f25d2>:1: DeprecationWarning: Call to deprecated `docvecs` (The `docvecs` property has been renamed `dv`.).\n",
            "  similar_doc = model.docvecs.most_similar(positive = [v1], topn = 4) #positive is an attribute that shows positive correlation first followed by the correlation value\n"
          ]
        }
      ]
    },
    {
      "cell_type": "code",
      "metadata": {
        "colab": {
          "base_uri": "https://localhost:8080/"
        },
        "id": "BmMOM0v6Z3L7",
        "outputId": "67b23c46-2c7c-475c-f83c-e47cc29d88c7"
      },
      "source": [
        "num,_ = similar_doc[0]\n",
        "num = int(num)\n",
        "tagged_data[num]"
      ],
      "execution_count": 25,
      "outputs": [
        {
          "output_type": "execute_result",
          "data": {
            "text/plain": [
              "TaggedDocument(words=['what', 'is', 'the', 'price', 'of', 'one', 'night', 'stay', 'at', 'the', 'premium', 'suite', '?'], tags=['13'])"
            ]
          },
          "metadata": {},
          "execution_count": 25
        }
      ]
    },
    {
      "cell_type": "markdown",
      "metadata": {
        "id": "WODMzvwuZ51G"
      },
      "source": [
        "Here it is very clear from the output of the previous code block that this model is not as effective as one might have thought. Are there any guesses why this model failed where we expected it to succeed?"
      ]
    },
    {
      "cell_type": "markdown",
      "metadata": {
        "id": "qehlw38BZ8Pa"
      },
      "source": [
        "Click on this [link](https://stackoverflow.com/questions/58206571/doc2vec-find-the-similar-sentence) to learn more about this. The gist of the issue is this\n",
        "\n",
        "> Doc2Vec isn't going to give good results on toy-sized datasets, so you shouldn't expect anything meaningful until using much more data."
      ]
    },
    {
      "cell_type": "markdown",
      "metadata": {
        "id": "UD5UfXogaDD7"
      },
      "source": [
        "**After observing the performance** of both of the models there are some clear conclusions that we can draw from this:\n",
        "\n",
        "1. The Doc2vec model requires a lot more data for it to understand the relationship between words. And even after using a pre-trained model there is a clear lack of quality in the responses from the model compared to the cosine similarity model. \n",
        "2. The cosine similarity model works better for a smaller and more well defined dataset. This means that a few simple questions can be solved effectively but complex questions that require context wont be solved by it. "
      ]
    }
  ]
}